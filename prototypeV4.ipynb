{
 "cells": [
  {
   "cell_type": "code",
   "execution_count": 83,
   "metadata": {},
   "outputs": [],
   "source": [
    "import numpy as np\n",
    "import matplotlib.pyplot as plt\n",
    "from numba import njit\n",
    "from fun import *\n",
    "import scipy.sparse.linalg as sp\n",
    "from scipy.sparse import csc_matrix\n",
    "import pandas as pd"
   ]
  },
  {
   "cell_type": "code",
   "execution_count": 84,
   "metadata": {},
   "outputs": [],
   "source": [
    "@njit\n",
    "def generateMatrix(Nx,Ny,dx,dy,n,k):\n",
    "    def idx1D(i , j, N):\n",
    "        return i * N + j\n",
    "\n",
    "    temp = np.zeros((Nx*Ny,Ny*Nx))\n",
    "\n",
    "    for i in range(Nx):\n",
    "        for j in range(Ny):\n",
    "            temp[idx1D(i, j, Ny), idx1D(i, j, Ny)] = -2/dx**2 -2/dy**2 + k**2/n[i,j]**2\n",
    "\n",
    "    for i in range(Nx):\n",
    "        for j in range(1,Ny):\n",
    "            temp[idx1D(i, j, Ny), idx1D(i, j - 1, Ny)] = 1/dy**2\n",
    "\n",
    "    for i in range(Nx):\n",
    "        for j in range(Ny-1):\n",
    "            temp[idx1D(i, j, Ny), idx1D(i, j + 1, Ny)] = 1/dy**2\n",
    "\n",
    "    for i in range(Nx-1):\n",
    "        for j in range(Ny):\n",
    "            temp[idx1D(i, j, Ny), idx1D(i + 1, j, Ny)] = 1/dx**2\n",
    "\n",
    "    for i in range(1,Nx):\n",
    "        for j in range(Ny):\n",
    "            temp[idx1D(i, j, Ny), idx1D(i - 1, j, Ny)] = 1/dx**2\n",
    "    return temp\n",
    "\n",
    "@njit\n",
    "def pinv(matrix):\n",
    "    return np.linalg.pinv(matrix) \n",
    "\n",
    "def matmul(M1,M2):\n",
    "    return np.matmul(M1, M2)"
   ]
  },
  {
   "cell_type": "code",
   "execution_count": 111,
   "metadata": {},
   "outputs": [
    {
     "name": "stdout",
     "output_type": "stream",
     "text": [
      "generating matrix...\n",
      "inverting sparse matrix...\n",
      "0\n",
      "0\n",
      "reshaping matrix...\n",
      "(1681, 1681)\n",
      "multiplication...\n",
      "reshaping result...\n",
      "(1681,)\n",
      "generate img...\n",
      "saving img...\n"
     ]
    },
    {
     "data": {
      "image/png": "[encoded data removed]",
      "text/plain": [
       "<Figure size 432x288 with 2 Axes>"
      ]
     },
     "metadata": {
      "needs_background": "light"
     },
     "output_type": "display_data"
    }
   ],
   "source": [
    "Ny = 41\n",
    "Nx = 41\n",
    "\n",
    "dx = 0.001\n",
    "dy = 0.001\n",
    "k = 6.28/0.012 #2pi/długość fali\n",
    "n = np.ones((Nx,Ny))\n",
    "f = np.zeros((Nx*Ny))\n",
    "f[(Nx*Ny)//2] = 1\n",
    "E_2D_test = np.zeros((Nx,Ny))\n",
    "\n",
    "print('generating matrix...')\n",
    "matrix = generateMatrix(Nx,Ny,dx,dy,n,k)\n",
    "\n",
    "print('inverting sparse matrix...')\n",
    "\n",
    "coordinates_x = np.zeros((Nx**2*Ny**2),dtype=np.int16)\n",
    "coordinates_y = np.zeros((Nx**2*Ny**2),dtype=np.int16)\n",
    "\n",
    "for i in range(Nx**2):\n",
    "    coordinates_x[i*Nx**2:(i+1)*Nx**2] = np.ones(Nx**2,dtype=np.int16) * i\n",
    "\n",
    "for i in range(Nx**2):\n",
    "    coordinates_y[i*Nx**2:(i+1)*Nx**2] = np.arange(Nx**2, dtype=np.int16)\n",
    "\n",
    "print(min(coordinates_x))\n",
    "print(min(coordinates_y))\n",
    "\n",
    "matrix_sparse = csc_matrix(\n",
    "        (\n",
    "            np.reshape(matrix,(1,Ny*Ny*Nx*Nx))[0],\n",
    "            (\n",
    "                coordinates_x,\n",
    "                coordinates_y\n",
    "            )\n",
    "        )\n",
    "        )\n",
    "\n",
    "matrix_inv_sparse = sp.inv(\n",
    "    matrix_sparse\n",
    "    )\n",
    "\n",
    "print('reshaping matrix...')\n",
    "print(np.shape(matrix_inv_sparse.toarray()))\n",
    "\n",
    "print('multiplication...')\n",
    "E_test = matmul(matrix_inv_sparse.toarray(), f)\n",
    "\n",
    "print('reshaping result...')\n",
    "print(np.shape(E_test))\n",
    "\n",
    "E_2D_test = np.reshape(E_test,(Nx,Ny))#[:(Nx-Ny)]\n",
    "print('generate img...')\n",
    "\n",
    "plt.imshow(E_2D_test, 'gist_heat')\n",
    "# plt.imshow(matrix, 'gist_heat')\n",
    "plt.colorbar()\n",
    "print('saving img...')\n",
    "plt.savefig('test_4.png')\n",
    "\n",
    "# print('pseudoinverting matrix...')\n",
    "# matrix_inv = pinv(matrix)         # Pseudoinverse\n"
   ]
  },
  {
   "cell_type": "code",
   "execution_count": 112,
   "metadata": {},
   "outputs": [
    {
     "name": "stdout",
     "output_type": "stream",
     "text": [
      "generating matrix...\n",
      "pseudoinverting matrix...\n",
      "reshaping matrix...\n",
      "(1681, 1681)\n",
      "multiplication...\n",
      "reshaping result...\n",
      "(1681,)\n",
      "generate img...\n",
      "saving img...\n"
     ]
    },
    {
     "data": {
      "image/png": "[encoded data removed]",
      "text/plain": [
       "<Figure size 432x288 with 2 Axes>"
      ]
     },
     "metadata": {
      "needs_background": "light"
     },
     "output_type": "display_data"
    }
   ],
   "source": [
    "Ny = 41\n",
    "Nx = 41\n",
    "\n",
    "dx = 0.001\n",
    "dy = 0.001\n",
    "k = 6.28/0.012 #2pi/długość fali\n",
    "n = np.ones((Nx,Ny))\n",
    "f = np.zeros((Nx*Ny))\n",
    "f[(Nx*Ny)//2] = 1\n",
    "E_2D_test = np.zeros((Nx,Ny))\n",
    "\n",
    "print('generating matrix...')\n",
    "matrix = generateMatrix(Nx,Ny,dx,dy,n,k)\n",
    "\n",
    "print('pseudoinverting matrix...')\n",
    "matrix_inv = pinv(matrix)         # Pseudoinverse\n",
    "\n",
    "print('reshaping matrix...')\n",
    "print(np.shape(matrix_inv_sparse.toarray()))\n",
    "\n",
    "print('multiplication...')\n",
    "E_test = matmul(matrix_inv_sparse.toarray(), f)\n",
    "\n",
    "print('reshaping result...')\n",
    "print(np.shape(E_test))\n",
    "\n",
    "E_2D_test = np.reshape(E_test,(Nx,Ny))#[:(Nx-Ny)]\n",
    "print('generate img...')\n",
    "\n",
    "plt.imshow(E_2D_test, 'gist_heat')\n",
    "# plt.imshow(matrix, 'gist_heat')\n",
    "plt.colorbar()\n",
    "print('saving img...')\n",
    "plt.savefig('test_5.png')\n",
    "\n",
    "\n",
    "\n"
   ]
  }
 ],
 "metadata": {
  "kernelspec": {
   "display_name": "Python 3.8.10 64-bit",
   "language": "python",
   "name": "python3"
  },
  "language_info": {
   "codemirror_mode": {
    "name": "ipython",
    "version": 3
   },
   "file_extension": ".py",
   "mimetype": "text/x-python",
   "name": "python",
   "nbconvert_exporter": "python",
   "pygments_lexer": "ipython3",
   "version": "3.8.10"
  },
  "orig_nbformat": 4,
  "vscode": {
   "interpreter": {
    "hash": "31f2aee4e71d21fbe5cf8b01ff0e069b9275f58929596ceb00d14d90e3e16cd6"
   }
  }
 },
 "nbformat": 4,
 "nbformat_minor": 2
}
